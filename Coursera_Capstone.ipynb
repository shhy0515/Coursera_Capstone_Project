{
  "nbformat": 4,
  "nbformat_minor": 0,
  "metadata": {
    "colab": {
      "name": "Coursera_Capstone.ipynb",
      "provenance": [],
      "authorship_tag": "ABX9TyMVdbQ07Wwr97zzzU1lM5/K",
      "include_colab_link": true
    },
    "kernelspec": {
      "name": "python3",
      "display_name": "Python 3"
    }
  },
  "cells": [
    {
      "cell_type": "markdown",
      "metadata": {
        "id": "view-in-github",
        "colab_type": "text"
      },
      "source": [
        "<a href=\"https://colab.research.google.com/github/shhy0515/Coursera_Capstone_Project/blob/master/Coursera_Capstone.ipynb\" target=\"_parent\"><img src=\"https://colab.research.google.com/assets/colab-badge.svg\" alt=\"Open In Colab\"/></a>"
      ]
    },
    {
      "cell_type": "markdown",
      "metadata": {
        "id": "z2M6tXpDeRWV",
        "colab_type": "text"
      },
      "source": [
        "This notebook will be mainly used ofr the capstone project."
      ]
    },
    {
      "cell_type": "code",
      "metadata": {
        "id": "BqCuY4hweUME",
        "colab_type": "code",
        "colab": {}
      },
      "source": [
        "import pandas as pd\n",
        "import numpy as np"
      ],
      "execution_count": 0,
      "outputs": []
    },
    {
      "cell_type": "code",
      "metadata": {
        "id": "cFJYh8HmeZ_g",
        "colab_type": "code",
        "colab": {
          "base_uri": "https://localhost:8080/",
          "height": 35
        },
        "outputId": "affea863-9205-4ca5-cc59-c81e84032acd"
      },
      "source": [
        "print('Hello Capstone Project Course!')"
      ],
      "execution_count": 2,
      "outputs": [
        {
          "output_type": "stream",
          "text": [
            "Hello Capstone Project Course!\n"
          ],
          "name": "stdout"
        }
      ]
    }
  ]
}